{
 "cells": [
  {
   "cell_type": "code",
   "execution_count": 1,
   "metadata": {
    "scrolled": true
   },
   "outputs": [],
   "source": [
    "import sys\n",
    "from pathlib import Path\n",
    "\n",
    "sys.path.append(str(Path('..').resolve()))\n",
    "from address_parser import AddressParser\n"
   ]
  },
  {
   "cell_type": "code",
   "execution_count": 2,
   "metadata": {
    "scrolled": true
   },
   "outputs": [],
   "source": [
    "parser = AddressParser()"
   ]
  },
  {
   "cell_type": "markdown",
   "metadata": {},
   "source": [
    "## Examples"
   ]
  },
  {
   "cell_type": "code",
   "execution_count": 4,
   "metadata": {
    "scrolled": false
   },
   "outputs": [
    {
     "data": {
      "text/html": [
       "<div class=\"tex2jax_ignore\" style=\"white-space: pre-wrap\"><span style=\"padding: 2px; border-radius: 4px; border: 1px solid #c8e6c9; background: #e8f5e9\">123456<span style=\"vertical-align: middle; margin-left: 2px; font-size: 0.7em; color: #66bb6a;\">zipcode</span></span> , <span style=\"padding: 2px; border-radius: 4px; border: 1px solid #ffcdd2; background: #ffebee\">тверская<span style=\"vertical-align: middle; margin-left: 2px; font-size: 0.7em; color: #e57373;\">region</span></span> <span style=\"padding: 2px; border-radius: 4px; border: 1px solid #ffe0b2; background: #fff3e0\">область<span style=\"vertical-align: middle; margin-left: 2px; font-size: 0.7em; color: #ffb74d;\">region_type</span></span> , <span style=\"padding: 2px; border-radius: 4px; border: 1px solid #d1c4e9; background: #ede7f6\">тверь<span style=\"vertical-align: middle; margin-left: 2px; font-size: 0.7em; color: #9575cd;\">city</span></span> , <span style=\"padding: 2px; border-radius: 4px; border: 1px solid #d7ccc8; background: #efebe9\">ул<span style=\"vertical-align: middle; margin-left: 2px; font-size: 0.7em; color: #a1887f;\">street_type</span></span> <span style=\"padding: 2px; border-radius: 4px; border: 1px solid #bbdefb; background: #e3f2fd\">оснабрюкская<span style=\"vertical-align: middle; margin-left: 2px; font-size: 0.7em; color: #64b5f6;\">street</span></span> , <span style=\"padding: 2px; border-radius: 4px; border: 1px solid #c8e6c9; background: #e8f5e9\">д<span style=\"vertical-align: middle; margin-left: 2px; font-size: 0.7em; color: #66bb6a;\">house_type</span></span> <span style=\"padding: 2px; border-radius: 4px; border: 1px solid #ffcdd2; background: #ffebee\">10<span style=\"vertical-align: middle; margin-left: 2px; font-size: 0.7em; color: #e57373;\">house</span></span> <span style=\"padding: 2px; border-radius: 4px; border: 1px solid #ffe0b2; background: #fff3e0\">к<span style=\"vertical-align: middle; margin-left: 2px; font-size: 0.7em; color: #ffb74d;\">corpus_type</span></span> <span style=\"padding: 2px; border-radius: 4px; border: 1px solid #d1c4e9; background: #ede7f6\">1<span style=\"vertical-align: middle; margin-left: 2px; font-size: 0.7em; color: #9575cd;\">corpus</span></span> , <span style=\"padding: 2px; border-radius: 4px; border: 1px solid #d7ccc8; background: #efebe9\">кв<span style=\"vertical-align: middle; margin-left: 2px; font-size: 0.7em; color: #a1887f;\">rm_type</span></span> <span style=\"padding: 2px; border-radius: 4px; border: 1px solid #bbdefb; background: #e3f2fd\">45<span style=\"vertical-align: middle; margin-left: 2px; font-size: 0.7em; color: #64b5f6;\">rm</span></span></div>"
      ],
      "text/plain": [
       "<IPython.core.display.HTML object>"
      ]
     },
     "metadata": {},
     "output_type": "display_data"
    },
    {
     "data": {
      "text/plain": [
       "[{'zipcode': '123456',\n",
       "  'region': 'тверская',\n",
       "  'region_type': 'область',\n",
       "  'city': 'тверь',\n",
       "  'street_type': 'улица',\n",
       "  'street': 'оснабрюкская',\n",
       "  'rm_type': 'кв',\n",
       "  'rm': '45',\n",
       "  'house_type': 'дом',\n",
       "  'house': '10',\n",
       "  'corpus_type': 'корпус',\n",
       "  'corpus': '1',\n",
       "  'unparsed_parts': []}]"
      ]
     },
     "execution_count": 4,
     "metadata": {},
     "output_type": "execute_result"
    }
   ],
   "source": [
    "# Regular address\n",
    "text = '123456, Тверская область, Тверь, ул. Оснабрюкская, д. 10 к.1, кв. 45'\n",
    "parser.display_parse(text)\n",
    "parser(text)"
   ]
  },
  {
   "cell_type": "code",
   "execution_count": 6,
   "metadata": {},
   "outputs": [
    {
     "data": {
      "text/html": [
       "<div class=\"tex2jax_ignore\" style=\"white-space: pre-wrap\"><span style=\"padding: 2px; border-radius: 4px; border: 1px solid #c8e6c9; background: #e8f5e9\">г<span style=\"vertical-align: middle; margin-left: 2px; font-size: 0.7em; color: #66bb6a;\">city_type</span></span> <span style=\"padding: 2px; border-radius: 4px; border: 1px solid #d1c4e9; background: #ede7f6\">москва<span style=\"vertical-align: middle; margin-left: 2px; font-size: 0.7em; color: #9575cd;\">city</span></span> , <span style=\"padding: 2px; border-radius: 4px; border: 1px solid #bbdefb; background: #e3f2fd\">1-й спасоналивковский<span style=\"vertical-align: middle; margin-left: 2px; font-size: 0.7em; color: #64b5f6;\">street</span></span> <span style=\"padding: 2px; border-radius: 4px; border: 1px solid #d7ccc8; background: #efebe9\">переулок<span style=\"vertical-align: middle; margin-left: 2px; font-size: 0.7em; color: #a1887f;\">street_type</span></span> , <span style=\"padding: 2px; border-radius: 4px; border: 1px solid #c8e6c9; background: #e8f5e9\">вл<span style=\"vertical-align: middle; margin-left: 2px; font-size: 0.7em; color: #66bb6a;\">house_type</span></span> <span style=\"padding: 2px; border-radius: 4px; border: 1px solid #ffcdd2; background: #ffebee\">3/5<span style=\"vertical-align: middle; margin-left: 2px; font-size: 0.7em; color: #e57373;\">house</span></span></div>"
      ],
      "text/plain": [
       "<IPython.core.display.HTML object>"
      ]
     },
     "metadata": {},
     "output_type": "display_data"
    },
    {
     "data": {
      "text/plain": [
       "[{'city_type': 'город',\n",
       "  'city': 'москва',\n",
       "  'street': '1-й спасоналивковский',\n",
       "  'street_type': 'переулок',\n",
       "  'house_type': 'владение',\n",
       "  'house': '3/5',\n",
       "  'unparsed_parts': []}]"
      ]
     },
     "execution_count": 6,
     "metadata": {},
     "output_type": "execute_result"
    }
   ],
   "source": [
    "# Complicated street name\n",
    "text = \"г. Москва, 1-й Спасоналивковский переулок, вл. 3/5.\"\n",
    "parser.display_parse(text)`\n",
    "parser(text)"
   ]
  },
  {
   "cell_type": "code",
   "execution_count": 22,
   "metadata": {},
   "outputs": [
    {
     "data": {
      "text/html": [
       "<div class=\"tex2jax_ignore\" style=\"white-space: pre-wrap\"><span style=\"padding: 2px; border-radius: 4px; border: 1px solid #ffcdd2; background: #ffebee\">новосибирская<span style=\"vertical-align: middle; margin-left: 2px; font-size: 0.7em; color: #e57373;\">region</span></span> <span style=\"padding: 2px; border-radius: 4px; border: 1px solid #ffe0b2; background: #fff3e0\">область<span style=\"vertical-align: middle; margin-left: 2px; font-size: 0.7em; color: #ffb74d;\">region_type</span></span> , <span style=\"padding: 2px; border-radius: 4px; border: 1px solid #d1c4e9; background: #ede7f6\">новосибирск<span style=\"vertical-align: middle; margin-left: 2px; font-size: 0.7em; color: #9575cd;\">city</span></span> , <span style=\"padding: 2px; border-radius: 4px; border: 1px solid #d1c4e9; background: #ede7f6\">жк<span style=\"vertical-align: middle; margin-left: 2px; font-size: 0.7em; color: #9575cd;\">quarter_type</span></span> <span style=\"padding: 2px; border-radius: 4px; border: 1px solid #d7ccc8; background: #efebe9\">европейский берег<span style=\"vertical-align: middle; margin-left: 2px; font-size: 0.7em; color: #a1887f;\">quarter</span></span> , <span style=\"padding: 2px; border-radius: 4px; border: 1px solid #bbdefb; background: #e3f2fd\">бориса богаткова<span style=\"vertical-align: middle; margin-left: 2px; font-size: 0.7em; color: #64b5f6;\">street</span></span> , <span style=\"padding: 2px; border-radius: 4px; border: 1px solid #c8e6c9; background: #e8f5e9\">дом<span style=\"vertical-align: middle; margin-left: 2px; font-size: 0.7em; color: #66bb6a;\">house_type</span></span> <span style=\"padding: 2px; border-radius: 4px; border: 1px solid #ffcdd2; background: #ffebee\">260/1<span style=\"vertical-align: middle; margin-left: 2px; font-size: 0.7em; color: #e57373;\">house</span></span></div>"
      ],
      "text/plain": [
       "<IPython.core.display.HTML object>"
      ]
     },
     "metadata": {},
     "output_type": "display_data"
    },
    {
     "data": {
      "text/plain": [
       "[{'region': 'новосибирская',\n",
       "  'region_type': 'область',\n",
       "  'city': 'новосибирск',\n",
       "  'quarter_type': 'жилой квартал',\n",
       "  'quarter': 'европейский берег',\n",
       "  'street': 'бориса богаткова',\n",
       "  'house_type': 'дом',\n",
       "  'house': '260/1',\n",
       "  'unparsed_parts': []}]"
      ]
     },
     "execution_count": 22,
     "metadata": {},
     "output_type": "execute_result"
    }
   ],
   "source": [
    "text = 'Новосибирская область , Новосибирск , жк Европейский берег, Бориса Богаткова , дом 260/1'\n",
    "parser.display_parse(text)\n",
    "parser(text)"
   ]
  },
  {
   "cell_type": "code",
   "execution_count": 13,
   "metadata": {},
   "outputs": [
    {
     "data": {
      "text/html": [
       "<div class=\"tex2jax_ignore\" style=\"white-space: pre-wrap\"><span style=\"padding: 2px; border-radius: 4px; border: 1px solid #c8e6c9; background: #e8f5e9\">956478<span style=\"vertical-align: middle; margin-left: 2px; font-size: 0.7em; color: #66bb6a;\">zipcode</span></span> , <span style=\"padding: 2px; border-radius: 4px; border: 1px solid #d1c4e9; background: #ede7f6\">новосибирск<span style=\"vertical-align: middle; margin-left: 2px; font-size: 0.7em; color: #9575cd;\">city</span></span> , <span style=\"padding: 2px; border-radius: 4px; border: 1px solid #bbdefb; background: #e3f2fd\">никитина<span style=\"vertical-align: middle; margin-left: 2px; font-size: 0.7em; color: #64b5f6;\">street</span></span> <span style=\"padding: 2px; border-radius: 4px; border: 1px solid #d7ccc8; background: #efebe9\">улица<span style=\"vertical-align: middle; margin-left: 2px; font-size: 0.7em; color: #a1887f;\">street_type</span></span> , <span style=\"padding: 2px; border-radius: 4px; border: 1px solid #c8e6c9; background: #e8f5e9\">д<span style=\"vertical-align: middle; margin-left: 2px; font-size: 0.7em; color: #66bb6a;\">house_type</span></span> <span style=\"padding: 2px; border-radius: 4px; border: 1px solid #ffcdd2; background: #ffebee\">15/4<span style=\"vertical-align: middle; margin-left: 2px; font-size: 0.7em; color: #e57373;\">house</span></span> , <span style=\"padding: 2px; border-radius: 4px; border: 1px solid #d7ccc8; background: #efebe9\">оф<span style=\"vertical-align: middle; margin-left: 2px; font-size: 0.7em; color: #a1887f;\">rm_type</span></span> <span style=\"padding: 2px; border-radius: 4px; border: 1px solid #bbdefb; background: #e3f2fd\">12<span style=\"vertical-align: middle; margin-left: 2px; font-size: 0.7em; color: #64b5f6;\">rm</span></span></div>"
      ],
      "text/plain": [
       "<IPython.core.display.HTML object>"
      ]
     },
     "metadata": {},
     "output_type": "display_data"
    },
    {
     "data": {
      "text/plain": [
       "[{'zipcode': '956478',\n",
       "  'city': 'новосибирск',\n",
       "  'street': 'никитина',\n",
       "  'street_type': 'улица',\n",
       "  'rm_type': 'оф',\n",
       "  'rm': '12',\n",
       "  'house_type': 'дом',\n",
       "  'house': '15/4',\n",
       "  'unparsed_parts': []}]"
      ]
     },
     "execution_count": 13,
     "metadata": {},
     "output_type": "execute_result"
    }
   ],
   "source": [
    "# Inverse order of street\n",
    "text = '956478, Новосибирск, Никитина улица, д. 15/4, оф. 12'\n",
    "parser.display_parse(text)\n",
    "parser(text)"
   ]
  },
  {
   "cell_type": "code",
   "execution_count": 20,
   "metadata": {},
   "outputs": [
    {
     "data": {
      "text/html": [
       "<div class=\"tex2jax_ignore\" style=\"white-space: pre-wrap\"><span style=\"padding: 2px; border-radius: 4px; border: 1px solid #d1c4e9; background: #ede7f6\">липецк<span style=\"vertical-align: middle; margin-left: 2px; font-size: 0.7em; color: #9575cd;\">city</span></span> , <span style=\"padding: 2px; border-radius: 4px; border: 1px solid #d7ccc8; background: #efebe9\">ул<span style=\"vertical-align: middle; margin-left: 2px; font-size: 0.7em; color: #a1887f;\">street_type</span></span> <span style=\"padding: 2px; border-radius: 4px; border: 1px solid #bbdefb; background: #e3f2fd\">зарядная<span style=\"vertical-align: middle; margin-left: 2px; font-size: 0.7em; color: #64b5f6;\">street</span></span> , <span style=\"padding: 2px; border-radius: 4px; border: 1px solid #c8e6c9; background: #e8f5e9\">д<span style=\"vertical-align: middle; margin-left: 2px; font-size: 0.7em; color: #66bb6a;\">house_type</span></span> <span style=\"padding: 2px; border-radius: 4px; border: 1px solid #ffcdd2; background: #ffebee\">10<span style=\"vertical-align: middle; margin-left: 2px; font-size: 0.7em; color: #e57373;\">house</span></span> , <span style=\"padding: 2px; border-radius: 4px; border: 1px solid #c8e6c9; background: #e8f5e9\">д<span style=\"vertical-align: middle; margin-left: 2px; font-size: 0.7em; color: #66bb6a;\">house_type</span></span> <span style=\"padding: 2px; border-radius: 4px; border: 1px solid #ffcdd2; background: #ffebee\">12<span style=\"vertical-align: middle; margin-left: 2px; font-size: 0.7em; color: #e57373;\">house</span></span> , <span style=\"padding: 2px; border-radius: 4px; border: 1px solid #c8e6c9; background: #e8f5e9\">д<span style=\"vertical-align: middle; margin-left: 2px; font-size: 0.7em; color: #66bb6a;\">house_type</span></span> <span style=\"padding: 2px; border-radius: 4px; border: 1px solid #ffcdd2; background: #ffebee\">10<span style=\"vertical-align: middle; margin-left: 2px; font-size: 0.7em; color: #e57373;\">house</span></span> <span style=\"padding: 2px; border-radius: 4px; border: 1px solid #ffe0b2; background: #fff3e0\">к<span style=\"vertical-align: middle; margin-left: 2px; font-size: 0.7em; color: #ffb74d;\">corpus_type</span></span> <span style=\"padding: 2px; border-radius: 4px; border: 1px solid #d1c4e9; background: #ede7f6\">1<span style=\"vertical-align: middle; margin-left: 2px; font-size: 0.7em; color: #9575cd;\">corpus</span></span> , <span style=\"padding: 2px; border-radius: 4px; border: 1px solid #c8e6c9; background: #e8f5e9\">д<span style=\"vertical-align: middle; margin-left: 2px; font-size: 0.7em; color: #66bb6a;\">house_type</span></span> <span style=\"padding: 2px; border-radius: 4px; border: 1px solid #ffcdd2; background: #ffebee\">12<span style=\"vertical-align: middle; margin-left: 2px; font-size: 0.7em; color: #e57373;\">house</span></span> <span style=\"padding: 2px; border-radius: 4px; border: 1px solid #ffe0b2; background: #fff3e0\">к<span style=\"vertical-align: middle; margin-left: 2px; font-size: 0.7em; color: #ffb74d;\">corpus_type</span></span> <span style=\"padding: 2px; border-radius: 4px; border: 1px solid #d1c4e9; background: #ede7f6\">2<span style=\"vertical-align: middle; margin-left: 2px; font-size: 0.7em; color: #9575cd;\">corpus</span></span></div>"
      ],
      "text/plain": [
       "<IPython.core.display.HTML object>"
      ]
     },
     "metadata": {},
     "output_type": "display_data"
    },
    {
     "data": {
      "text/plain": [
       "[{'city': 'липецк',\n",
       "  'street_type': 'улица',\n",
       "  'street': 'зарядная',\n",
       "  'house_type': 'дом',\n",
       "  'house': '10',\n",
       "  'unparsed_parts': []},\n",
       " {'city': 'липецк',\n",
       "  'street_type': 'улица',\n",
       "  'street': 'зарядная',\n",
       "  'house_type': 'дом',\n",
       "  'house': '12',\n",
       "  'unparsed_parts': []},\n",
       " {'city': 'липецк',\n",
       "  'street_type': 'улица',\n",
       "  'street': 'зарядная',\n",
       "  'house_type': 'дом',\n",
       "  'house': '10',\n",
       "  'corpus_type': 'корпус',\n",
       "  'corpus': '1',\n",
       "  'unparsed_parts': []},\n",
       " {'city': 'липецк',\n",
       "  'street_type': 'улица',\n",
       "  'street': 'зарядная',\n",
       "  'house_type': 'дом',\n",
       "  'house': '12',\n",
       "  'corpus_type': 'корпус',\n",
       "  'corpus': '2',\n",
       "  'unparsed_parts': []}]"
      ]
     },
     "execution_count": 20,
     "metadata": {},
     "output_type": "execute_result"
    }
   ],
   "source": [
    "# Several houses in the string is splited to several addresses\n",
    "text = 'Липецк,ул. Зарядная, д. 10, д. 12, д. 10 к.1, д. 12 к.2'\n",
    "parser.display_parse(text)\n",
    "parser(text)"
   ]
  },
  {
   "cell_type": "code",
   "execution_count": null,
   "metadata": {},
   "outputs": [],
   "source": []
  }
 ],
 "metadata": {
  "kernelspec": {
   "display_name": "adress",
   "language": "python",
   "name": "adress"
  },
  "language_info": {
   "codemirror_mode": {
    "name": "ipython",
    "version": 3
   },
   "file_extension": ".py",
   "mimetype": "text/x-python",
   "name": "python",
   "nbconvert_exporter": "python",
   "pygments_lexer": "ipython3",
   "version": "3.8.5"
  }
 },
 "nbformat": 4,
 "nbformat_minor": 4
}
